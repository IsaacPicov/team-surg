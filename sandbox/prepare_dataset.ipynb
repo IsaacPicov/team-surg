{
 "cells": [
  {
   "cell_type": "code",
   "execution_count": 1,
   "metadata": {},
   "outputs": [],
   "source": [
    "import numpy as np\n",
    "import pickle\n",
    "import os\n",
    "import io\n",
    "import torch\n",
    "from joints import MAIN_JOINTS\n",
    "from typing import List"
   ]
  },
  {
   "cell_type": "code",
   "execution_count": 2,
   "metadata": {},
   "outputs": [],
   "source": [
    "class CPU_Unpickler(pickle.Unpickler):\n",
    "  def find_class(self, module, name): \n",
    "    if module == 'torch.storage' and name == '_load_from_bytes':\n",
    "      return lambda b: torch.load(io.BytesIO(b), map_location='cpu')\n",
    "    else:\n",
    "      return super().find_class(module, name )\n",
    "\n",
    "def read_pickle(path):\n",
    "    with open(path, 'rb') as f:\n",
    "      return CPU_Unpickler(f).load()"
   ]
  },
  {
   "cell_type": "code",
   "execution_count": 3,
   "metadata": {},
   "outputs": [],
   "source": [
    "def reshape_joints(input_array: np.array) -> np.array:\n",
    "    \"\"\"\n",
    "    Reshape an ND array of shape (N, 84) to a (28, 3) array corresponding to joint positions.\n",
    "    \n",
    "    Parameters:\n",
    "        input_array (np.ndarray): A 1D NumPy array of length 84.\n",
    "        \n",
    "    Returns:\n",
    "        np.ndarray: A reshaped (28, 3) array.\n",
    "\n",
    "    \"\"\"\n",
    "    \n",
    "    length = input_array.shape[0] if input_array.shape != (84,) else 1\n",
    "    return input_array.reshape(length, 28, 3)\n"
   ]
  },
  {
   "cell_type": "code",
   "execution_count": 4,
   "metadata": {},
   "outputs": [],
   "source": [
    "joint_names = [\n",
    "    'pelvis', 'left_hip', 'right_hip',\n",
    "    'left_elbow', 'right_elbow', 'left_wrist', 'right_wrist',\n",
    "    'head', 'jaw', 'nose', 'right_eye', 'left_eye', 'right_ear', 'left_ear',\n",
    "    'left_shoulder', 'right_shoulder', 'left_collar', 'right_collar', 'neck',\n",
    "    'spine1', 'spine2', 'spine3',\n",
    "    'left_knee', 'right_knee', 'left_ankle', 'right_ankle', 'left_foot', 'right_foot'\n",
    "]\n",
    "\n",
    "spatial_edges = [\n",
    "    # Head cluster\n",
    "    ('left_eye', 'head'), ('right_eye', 'head'), ('left_ear', 'head'),\n",
    "    ('right_ear', 'head'), ('nose', 'head'), ('jaw', 'head'),\n",
    "\n",
    "    # Left arm\n",
    "    ('left_wrist', 'left_elbow'), ('left_elbow', 'left_shoulder'),\n",
    "    ('left_shoulder', 'left_collar'),\n",
    "\n",
    "    # Right arm\n",
    "    ('right_wrist', 'right_elbow'), ('right_elbow', 'right_shoulder'),\n",
    "    ('right_shoulder', 'right_collar'),\n",
    "\n",
    "    # Spine\n",
    "    ('spine1', 'spine2'), ('spine2', 'spine3'),\n",
    "\n",
    "    # Pelvis/hip\n",
    "    ('right_hip', 'pelvis'), ('left_hip', 'pelvis'), ('pelvis', 'spine3'),\n",
    "\n",
    "    # Legs\n",
    "    ('right_foot', 'right_ankle'), ('right_ankle', 'right_knee'), ('right_knee', 'right_hip'),\n",
    "    ('left_foot', 'left_ankle'), ('left_ankle', 'left_knee'), ('left_knee', 'left_hip'),\n",
    "\n",
    "    # Shoulder to spine\n",
    "    ('right_collar', 'spine1'), ('left_collar', 'spine1'),\n",
    "\n",
    "    # Head to spine\n",
    "    ('head', 'spine1'),\n",
    "]\n",
    "\n",
    "\n",
    "def get_filtered_joint_list(exclude_groups: List) -> List:\n",
    "    joint_groups = {\n",
    "        \"pelvic_joints\": ['pelvis', 'left_hip', 'right_hip'],\n",
    "        \"arm_joints\": ['left_elbow','right_elbow','left_wrist','right_wrist'],\n",
    "        \"head_joints\": ['head','jaw','nose','right_eye','left_eye','right_ear','left_ear'],\n",
    "        \"thorax_joints\": ['left_shoulder','right_shoulder','left_collar','right_collar','neck'],\n",
    "        \"leg_joints\": ['left_knee','right_knee','left_ankle','right_ankle','left_foot','right_foot'],\n",
    "        \"spine_joints\": ['spine1', 'spine2', 'spine3']\n",
    "    }\n",
    "\n",
    "    # Flatten group names into a set of excluded joint names\n",
    "    excluded = set()\n",
    "    for group in exclude_groups:\n",
    "        excluded.update(joint_groups[group])\n",
    "\n",
    "    # Final joint list after filtering\n",
    "    final_joint_list = [j for j in joint_names if j not in excluded]\n",
    "    return final_joint_list\n",
    "\n",
    "def filter_edges(joint_list: List, spatial_edges: List) -> List:\n",
    "    joint_set = set(joint_list)\n",
    "    filtered_edges = [(a, b) for a, b in spatial_edges if a in joint_set and b in joint_set]\n",
    "    return filtered_edges\n",
    "\n",
    "def build_edge_list(joint_list: List, spatial_edges: List, num_frames=150):\n",
    "    joint_idx = {name: i for i, name in enumerate(joint_list)}\n",
    "    N = len(joint_list)\n",
    "    total_nodes = N * num_frames\n",
    "\n",
    "    rows, cols = [], []\n",
    "\n",
    "    for t in range(num_frames):\n",
    "        offset = t * N\n",
    "\n",
    "        # spatial connections within the frame\n",
    "        for a, b in spatial_edges:\n",
    "            i, j = joint_idx[a] + offset, joint_idx[b] + offset\n",
    "            rows += [i, j]\n",
    "            cols += [j, i]\n",
    "\n",
    "        # temporal connections between same joints across frames\n",
    "        if t < num_frames - 1:\n",
    "            next_offset = (t + 1) * N\n",
    "            for i in range(N):\n",
    "                rows += [offset + i, next_offset + i]\n",
    "                cols += [next_offset + i, offset + i]\n",
    "\n",
    "    return torch.tensor([rows, cols], dtype = torch.long)"
   ]
  },
  {
   "cell_type": "code",
   "execution_count": 5,
   "metadata": {},
   "outputs": [
    {
     "name": "stdout",
     "output_type": "stream",
     "text": [
      "tensor(True)\n",
      "tensor(True)\n",
      "tensor(True)\n",
      "tensor(True)\n",
      "tensor(True)\n",
      "tensor(True)\n",
      "tensor(True)\n",
      "tensor(True)\n",
      "tensor(True)\n",
      "tensor(True)\n",
      "tensor(True)\n",
      "tensor(True)\n",
      "tensor(True)\n",
      "tensor(True)\n",
      "tensor(True)\n",
      "tensor(True)\n",
      "tensor(True)\n",
      "tensor(True)\n",
      "tensor(True)\n",
      "tensor(True)\n",
      "tensor(True)\n",
      "tensor(True)\n",
      "tensor(True)\n",
      "tensor(True)\n",
      "tensor(True)\n",
      "tensor(True)\n",
      "tensor(True)\n",
      "tensor(True)\n"
     ]
    },
    {
     "data": {
      "text/plain": [
       "tensor([[  11,    7,   10,  ..., 4191, 4179, 4191],\n",
       "        [   7,   11,    7,  ..., 4188, 4191, 4179]])"
      ]
     },
     "execution_count": 5,
     "metadata": {},
     "output_type": "execute_result"
    }
   ],
   "source": [
    "# Test \n",
    "included_joints = get_filtered_joint_list(exclude_groups=[]) \n",
    "filtered_edges = filter_edges(included_joints, spatial_edges)\n",
    "adj = build_edge_list(included_joints, filtered_edges, num_frames=150)\n",
    "for i in range(28):\n",
    "    print((adj == i).any())\n",
    "adj"
   ]
  },
  {
   "cell_type": "code",
   "execution_count": 6,
   "metadata": {},
   "outputs": [],
   "source": [
    "def build_node_list(exluded_groups : List, frames: np.array) -> np.array:\n",
    "     joints_list = get_filtered_joint_list(exluded_groups)\n",
    "     joint_indices = [MAIN_JOINTS.index(joint) for joint in joints_list]\n",
    "     reshaped_frames = reshape_joints(frames)\n",
    "     return reshaped_frames[:, joint_indices]\n",
    "     "
   ]
  },
  {
   "cell_type": "code",
   "execution_count": 11,
   "metadata": {},
   "outputs": [
    {
     "name": "stdout",
     "output_type": "stream",
     "text": [
      "True\n",
      "(150, 28, 3)\n",
      "(150, 25, 3)\n",
      "<class 'numpy.ndarray'>\n"
     ]
    },
    {
     "name": "stderr",
     "output_type": "stream",
     "text": [
      "/var/folders/z9/hg_4x2rn2t52_93qz6qk1_gh0000gn/T/ipykernel_47173/1925829092.py:6: DeprecationWarning: numpy.core.numeric is deprecated and has been renamed to numpy._core.numeric. The numpy._core namespace contains private NumPy internals and its use is discouraged, as NumPy internals can change without warning in any release. In practice, most real-world usage of numpy.core is to access functionality in the public NumPy API. If that is the case, use the public NumPy API. If not, you are using NumPy internals. If you would still like to access an internal attribute, use numpy._core.numeric._frombuffer.\n",
      "  return super().find_class(module, name )\n"
     ]
    }
   ],
   "source": [
    "#test\n",
    "frames = read_pickle(\"action_dataset_joints_leg_sampled_150.pkl\")\n",
    "frames['train'][0]\n",
    "data = build_node_list([], frames['train'][0][0])\n",
    "reshaped_frame = reshape_joints(frames['train'][0][0])\n",
    "\n",
    "#should be true\n",
    "print(reshaped_frame.shape == data.shape)\n",
    "print(data.shape)\n",
    "\n",
    "#should have 3 less joints\n",
    "data = build_node_list(['pelvic_joints'], frames['train'][0][0])\n",
    "print(data.shape)\n",
    "\n",
    "\n",
    "print(type(frames['train'][0][0]))"
   ]
  },
  {
   "cell_type": "code",
   "execution_count": null,
   "metadata": {},
   "outputs": [],
   "source": []
  }
 ],
 "metadata": {
  "kernelspec": {
   "display_name": "JDPLTeamSurg",
   "language": "python",
   "name": "python3"
  },
  "language_info": {
   "codemirror_mode": {
    "name": "ipython",
    "version": 3
   },
   "file_extension": ".py",
   "mimetype": "text/x-python",
   "name": "python",
   "nbconvert_exporter": "python",
   "pygments_lexer": "ipython3",
   "version": "3.12.7"
  }
 },
 "nbformat": 4,
 "nbformat_minor": 2
}
